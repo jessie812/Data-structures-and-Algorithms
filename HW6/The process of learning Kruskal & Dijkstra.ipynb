{
 "cells": [
  {
   "cell_type": "markdown",
   "metadata": {},
   "source": [
    "# The process of learning Kruskal & Dijkstra"
   ]
  },
  {
   "cell_type": "markdown",
   "metadata": {},
   "source": [
    "哲學四 05113010 陳鳳庭"
   ]
  },
  {
   "cell_type": "markdown",
   "metadata": {},
   "source": [
    "## Content"
   ]
  },
  {
   "cell_type": "markdown",
   "metadata": {},
   "source": [
    "- [原理說明](#原理說明)\n",
    "   - [Kruskal's Algorithm](##Kruskal's-Algorithm)\n",
    "   - [Dijkstra's Algorithm](#Dijkstra's-Algorithm)\n",
    "- [設計程式碼](#設計程式碼)\n",
    "   - [Kruskal程式碼](#Kruskal程式碼)\n",
    "   - [Dijkstra程式碼](#Dijkstra程式碼)\n",
    "- [Demo](#Demo)\n",
    "- [參考資料](#參考資料)"
   ]
  },
  {
   "cell_type": "markdown",
   "metadata": {},
   "source": [
    "---"
   ]
  },
  {
   "cell_type": "markdown",
   "metadata": {},
   "source": [
    "## 原理說明"
   ]
  },
  {
   "cell_type": "markdown",
   "metadata": {},
   "source": [
    "### Kruskal's Algorithm"
   ]
  },
  {
   "cell_type": "markdown",
   "metadata": {},
   "source": [
    "- 解決對象：minimum spanning tree\n",
    "    > 想要在graph上找到一條cost最小的路徑，且此路徑可以走訪graph上所有的vertex"
   ]
  },
  {
   "cell_type": "markdown",
   "metadata": {},
   "source": [
    "- 使用工具\n",
    "    - Greedy Algorithm：每次都採取**當前看起來最好的選擇**（cost最小），進而希望最終答案是**最佳的**（走訪整個tree的最小cost）\n",
    "    - Disjoint Sets：互斥集合，集合與集合之間彼此沒有交集\n",
    "        > 每新增一條edge，就將其連接的vertex放到同一個集合中，若放入的vertex已存在此集合中，則不採用此條edge（會出現cycle）；若放入的vertex已存在不同的集合中，則將兩集合合併，直到所有vertex都存在相同的集合中\n",
    "    "
   ]
  },
  {
   "cell_type": "markdown",
   "metadata": {},
   "source": [
    "- 關鍵\n",
    "    1. 沒有cycle\n",
    "    2. 各vertex與各vertex之間，是完全連通的"
   ]
  },
  {
   "cell_type": "markdown",
   "metadata": {},
   "source": [
    "- 時間複雜度：O(E log E)或O(E log V)"
   ]
  },
  {
   "cell_type": "markdown",
   "metadata": {},
   "source": [
    "### Dijkstra's Algorithm"
   ]
  },
  {
   "cell_type": "markdown",
   "metadata": {},
   "source": [
    "- 解決對象：Shortest Path\n",
    "    > 起點到各點的最短路徑"
   ]
  },
  {
   "cell_type": "markdown",
   "metadata": {},
   "source": [
    "- 使用工具\n",
    "    - Adjacency Matrix：以此紀錄vertex之間的cost大小\n",
    "        > cost=0：未連結"
   ]
  },
  {
   "cell_type": "markdown",
   "metadata": {},
   "source": [
    "- 關鍵\n",
    "    1. 可被採用的vertex，其cost必然已是min cost\n",
    "    2. 新增的vertex，只會影響與其相連接的vertex"
   ]
  },
  {
   "cell_type": "markdown",
   "metadata": {},
   "source": [
    "- 時間複雜度：O(V²)"
   ]
  },
  {
   "cell_type": "markdown",
   "metadata": {},
   "source": [
    "---"
   ]
  },
  {
   "cell_type": "markdown",
   "metadata": {},
   "source": [
    "## 設計程式碼"
   ]
  },
  {
   "cell_type": "markdown",
   "metadata": {},
   "source": [
    "先釐清助教給的規範跟一些程式碼的使用方式"
   ]
  },
  {
   "cell_type": "code",
   "execution_count": 1,
   "metadata": {},
   "outputs": [],
   "source": [
    "from collections import defaultdict "
   ]
  },
  {
   "cell_type": "code",
   "execution_count": 13,
   "metadata": {},
   "outputs": [],
   "source": [
    "#Class to represent a graph \n",
    "class Graph(): \n",
    "\n",
    "    def __init__(self, vertices): \n",
    "        self.V = vertices \n",
    "        self.graph = []\n",
    "        self.graph1 = defaultdict(int)\n",
    "        self.graph_matrix = [[-1 for column in range(vertices)]  \n",
    "                    for row in range(vertices)] \n",
    "    def addEdge(self,u,v,w): \n",
    "        \n",
    "        self.graph1[str(u) + \"-\" + str(v)] = w\n",
    "        \n",
    "    def Dijkstra(self, s): \n",
    "        \"\"\"\n",
    "        :type s: int\n",
    "        :rtype: dict\n",
    "        \"\"\"\n",
    "        min_cost = None\n",
    "        fix_min_index = None\n",
    "        fix_time = 0\n",
    "        checked = [s]\n",
    "\n",
    "        for i in range(self.V):\n",
    "            self.graph_matrix[s][s] = 0\n",
    "            if self.graph[s][i] != 0:  # 排除自己的情況\n",
    "                self.graph_matrix[s][i] = self.graph[s][i]\n",
    "                if not min_cost:\n",
    "                    min_cost = self.graph[s][i]\n",
    "                if min_cost > self.graph[s][i]:\n",
    "                    min_cost = self.graph[s][i]\n",
    "#         print('s=', s, 'graph_ma=', self.graph_matrix)\n",
    "        \n",
    "        while len(checked) < self.V:\n",
    "            min_index = self.graph_matrix[s].index(min_cost)\n",
    "            while min_index in checked:\n",
    "                if not fix_min_index:\n",
    "                    fix_min_index = self.graph_matrix[s].copy()\n",
    "                \n",
    "                fix_min_index.remove(min_cost)\n",
    "                fix_time += 1\n",
    "                min_index = fix_min_index.index(min_cost) + fix_time\n",
    "                \n",
    "#             print('min_index=', min_index, 'min_cost=', min_cost)\n",
    "#             min_cost = None\n",
    "            checked.append(min_index)\n",
    "            self.graph_matrix[min_index] = self.graph_matrix[s].copy()\n",
    "#             print(self.graph_matrix, 'mim=', min_index, 's=', s, self.graph_matrix[min_index] is self.graph_matrix[s])\n",
    "            for j in range(self.V):\n",
    "#                 print('in', j)\n",
    "                if j in checked:\n",
    "#                     print('checked', checked)\n",
    "                    continue\n",
    "                if self.graph[min_index][j] != 0:\n",
    "                    if self.graph_matrix[s][j] == -1:  #原本沒連結\n",
    "#                         print('min_index=', min_index, self.graph_matrix[min_index][j], 's=', s, self.graph_matrix[s][j])\n",
    "#                         print(min_index == s)\n",
    "                        self.graph_matrix[min_index][j] = self.graph_matrix[s][min_index] + self.graph[min_index][j]\n",
    "#                         print(self.graph_matrix[s] is self.graph_matrix[min_index])\n",
    "#                         print('min_index=', min_index, self.graph_matrix[min_index][j], 's=', s, self.graph_matrix[s][j]) \n",
    "#                         print('d', min_index, self.graph_matrix)\n",
    "#                         if not min_cost:\n",
    "#                             min_cost = self.graph_matrix[min_index][j]\n",
    "#                         if min_cost > self.graph_matrix[min_index][j]:\n",
    "#                             min_cost = self.graph_matrix[min_index][j]\n",
    "#                         print('min_cost=', min_cost)\n",
    "                    else:\n",
    "#                         print('min_cost=', min_cost)\n",
    "#                         print('e')\n",
    "                        if self.graph_matrix[s][min_index] + self.graph[min_index][j] < self.graph_matrix[s][j]:\n",
    "                            self.graph_matrix[min_index][j] = self.graph_matrix[s][min_index] + self.graph[min_index][j]\n",
    "#                             print('1min_cost=', min_cost)\n",
    "#                         if not min_cost:\n",
    "#                             min_cost = self.graph_matrix[min_index][j]\n",
    "#                             print('2min_cost=', min_cost)\n",
    "#                         if min_cost > self.graph_matrix[min_index][j]:\n",
    "#                             min_cost = self.graph_matrix[min_index][j]\n",
    "#                             print('3min_cost=', min_cost)\n",
    "\n",
    "#             if not min_cost:    #新增的點對剩下的點沒影響\n",
    "#                 print('here')\n",
    "#                 temp = []\n",
    "#                 for k in range(self.V):\n",
    "#                     if k not in checked:\n",
    "#                         temp.append(k)\n",
    "#                 print('checked=', checked)\n",
    "#                 print('temp=', temp)\n",
    "                \n",
    "#                 for l in temp:\n",
    "#                     if not min_cost:\n",
    "#                         min_cost = self.graph_matrix[min_index][l]\n",
    "#                         print('in 1 =', min_cost)\n",
    "#                     if min_cost > self.graph_matrix[min_index][l]:\n",
    "#                         min_cost = self.graph_matrix[min_index][l]\n",
    "#                         print('in 2 =', min_cost)\n",
    "            if len(checked) < self.V:                 \n",
    "                temp = []\n",
    "                for k in range(self.V):\n",
    "                    if k not in checked and self.graph_matrix[min_index][k] != -1:\n",
    "                        temp.append(self.graph_matrix[min_index][k])\n",
    "\n",
    "                min_cost = min(temp)\n",
    "#                 print('temp=', temp)\n",
    "#                 print('min_cost=', min_cost)\n",
    "            \n",
    "            s = min_index    \n",
    "        \n",
    "#         print(self.graph)\n",
    "        SP = {}\n",
    "        for m in range(self.V):\n",
    "            SP[str(m)] = self.graph_matrix[min_index][m]\n",
    "            \n",
    "        return SP\n",
    "        \n",
    "        \n",
    "    def Kruskal(self):\n",
    "        \"\"\"\n",
    "        :rtype: dict\n",
    "        \"\"\"       \n",
    "        sort_graph = sorted(self.graph1.items(), key=lambda graph1: graph1[1])\n",
    "               \n",
    "        if len(sort_graph) < self.V-1:\n",
    "            return\n",
    "        \n",
    "        src = []\n",
    "        dest = []\n",
    "#         weight = []\n",
    "        \n",
    "        for i in range(len(sort_graph)):\n",
    "            src.append(int(sort_graph[i][0].split('-')[0]))\n",
    "            dest.append(int(sort_graph[i][0].split('-')[1]))\n",
    "#             weight.append(sort_graph[i][1])\n",
    "\n",
    "\n",
    "        root = [-1]*self.V\n",
    "        edge = []\n",
    "        j = 0\n",
    "    \n",
    "        while len(edge) < self.V-1:\n",
    "            if root[dest[j]] == -1:\n",
    "                if root[src[j]] != -1:  # 起點本身有別的root的，要將終點放到src的root內\n",
    "#                     if root[dest[j]] == src[j] or root[dest[j]] == root[src[j]]:    # 排除cycle                        \n",
    "#                         j += 1\n",
    "#                         continue\n",
    "                    root[dest[j]] = root[src[j]]\n",
    "                    for k in range(root.count(dest[j])):     # 原本為root\n",
    "                        root[root.index(dest[j])] = root[src[j]]\n",
    "    \n",
    "                else:\n",
    "                    root[dest[j]] = src[j]\n",
    "                    for k in range(root.count(dest[j])):     # 原本為root的\n",
    "                        root[root.index(dest[j])] = src[j] \n",
    "                edge.append(j)\n",
    "            elif root[dest[j]] == src[j] or root[dest[j]] == root[src[j]]:\n",
    "                j += 1\n",
    "                continue\n",
    "            else:\n",
    "                if root[src[j]] != -1:\n",
    "                    if root[dest[j]] == root[src[j]] or root[dest[j]] == src[j]: # 排除cycle\n",
    "                        j += 1\n",
    "                        continue\n",
    "#                     temp = root[dest[j]]\n",
    "                    for k in range(root.count(root[dest[j]])):\n",
    "                        root[root.index(root[dest[j]])] = root[src[j]]\n",
    "                    root[root[dest[j]]] = root[src[j]]\n",
    "                    edge.append(j)\n",
    "                else:\n",
    "                    if root[dest[j]] == root[src[j]] or root[dest[j]] == src[j]: # 排除cycle\n",
    "                        j += 1\n",
    "                        continue                    \n",
    "                    root[root[dest[j]]] = src[j]\n",
    "                    for k in range(root.count(root[dest[j]])):\n",
    "                        root[root.index(root[dest[j]])] = src[j]  \n",
    "                    edge.append(j)\n",
    "\n",
    "            j += 1\n",
    "            \n",
    "        MST = {}\n",
    "        for l in edge:\n",
    "            MST[sort_graph[l][0]] = sort_graph[l][1]\n",
    "        \n",
    "        return MST"
   ]
  },
  {
   "cell_type": "markdown",
   "metadata": {},
   "source": [
    "### Kruskal程式碼"
   ]
  },
  {
   "cell_type": "code",
   "execution_count": 139,
   "metadata": {},
   "outputs": [],
   "source": [
    "graph = defaultdict(int)"
   ]
  },
  {
   "cell_type": "code",
   "execution_count": 140,
   "metadata": {},
   "outputs": [],
   "source": [
    "graph['test'] = 3\n",
    "graph[5]=8\n",
    "graph[9]=7"
   ]
  },
  {
   "cell_type": "code",
   "execution_count": 36,
   "metadata": {},
   "outputs": [
    {
     "data": {
      "text/plain": [
       "0"
      ]
     },
     "execution_count": 36,
     "metadata": {},
     "output_type": "execute_result"
    }
   ],
   "source": [
    "y = graph.items()\n",
    "graph['1']"
   ]
  },
  {
   "cell_type": "code",
   "execution_count": 37,
   "metadata": {},
   "outputs": [
    {
     "data": {
      "text/plain": [
       "defaultdict(int, {'test': 3, 5: 8, 9: 7, '1': 0})"
      ]
     },
     "execution_count": 37,
     "metadata": {},
     "output_type": "execute_result"
    }
   ],
   "source": [
    "graph"
   ]
  },
  {
   "cell_type": "code",
   "execution_count": 19,
   "metadata": {},
   "outputs": [],
   "source": [
    "a = 0\n",
    "b = 1\n",
    "graph['a-b'] = 6"
   ]
  },
  {
   "cell_type": "code",
   "execution_count": 194,
   "metadata": {},
   "outputs": [],
   "source": [
    "g = Graph(4)"
   ]
  },
  {
   "cell_type": "code",
   "execution_count": 195,
   "metadata": {},
   "outputs": [],
   "source": [
    "g.addEdge(0, 1, 10)\n",
    "g.addEdge(0, 2, 6)\n",
    "g.addEdge(0, 3, 5)\n",
    "g.addEdge(1, 3, 15)\n",
    "g.addEdge(2, 3, 4)"
   ]
  },
  {
   "cell_type": "code",
   "execution_count": 196,
   "metadata": {},
   "outputs": [
    {
     "data": {
      "text/plain": [
       "{'2-3': 4, '0-3': 5, '0-1': 10}"
      ]
     },
     "execution_count": 196,
     "metadata": {},
     "output_type": "execute_result"
    }
   ],
   "source": [
    "g.Kruskal()"
   ]
  },
  {
   "cell_type": "markdown",
   "metadata": {},
   "source": [
    "測試排序dict"
   ]
  },
  {
   "cell_type": "code",
   "execution_count": 142,
   "metadata": {},
   "outputs": [
    {
     "data": {
      "text/plain": [
       "{'0-1': 10, '2-3': 4, '0-3': 5, '0-2': 6, '1-3': 15}"
      ]
     },
     "execution_count": 142,
     "metadata": {},
     "output_type": "execute_result"
    }
   ],
   "source": [
    "d = {}\n",
    "d['0-1'] = 10\n",
    "d['2-3'] = 4\n",
    "d['0-3'] = 5\n",
    "d['0-2'] = 6\n",
    "d['1-3'] = 15\n",
    "d"
   ]
  },
  {
   "cell_type": "code",
   "execution_count": 213,
   "metadata": {},
   "outputs": [
    {
     "data": {
      "text/plain": [
       "dict_values([4, 1, 2, 5, 3])"
      ]
     },
     "execution_count": 213,
     "metadata": {},
     "output_type": "execute_result"
    }
   ],
   "source": [
    "d.values()"
   ]
  },
  {
   "cell_type": "code",
   "execution_count": 265,
   "metadata": {},
   "outputs": [
    {
     "data": {
      "text/plain": [
       "[1, 2, 2, 3, 4]"
      ]
     },
     "execution_count": 265,
     "metadata": {},
     "output_type": "execute_result"
    }
   ],
   "source": [
    "sorted(d.values())"
   ]
  },
  {
   "cell_type": "code",
   "execution_count": 141,
   "metadata": {},
   "outputs": [
    {
     "data": {
      "text/plain": [
       "dict_items([('test', 3), (5, 8), (9, 7)])"
      ]
     },
     "execution_count": 141,
     "metadata": {},
     "output_type": "execute_result"
    }
   ],
   "source": [
    "graph.items()"
   ]
  },
  {
   "cell_type": "code",
   "execution_count": 143,
   "metadata": {},
   "outputs": [
    {
     "data": {
      "text/plain": [
       "{'2-3': 4, '0-3': 5, '0-2': 6, '0-1': 10, '1-3': 15}"
      ]
     },
     "execution_count": 143,
     "metadata": {},
     "output_type": "execute_result"
    }
   ],
   "source": [
    "test = sorted(d.items(), key=lambda d:d[1])\n",
    "test\n",
    "\n",
    "temp = {}\n",
    "for i in range(len(test)):\n",
    "     temp[test[i][0]] = test[i][1]\n",
    "    \n",
    "temp"
   ]
  },
  {
   "cell_type": "code",
   "execution_count": 144,
   "metadata": {},
   "outputs": [
    {
     "data": {
      "text/plain": [
       "{'test': 3, 9: 7, 5: 8}"
      ]
     },
     "execution_count": 144,
     "metadata": {},
     "output_type": "execute_result"
    }
   ],
   "source": [
    "test = sorted(graph.items(), key=lambda graph:graph[1])\n",
    "test\n",
    "\n",
    "temp = {}\n",
    "for i in range(len(test)):\n",
    "     temp[test[i][0]] = test[i][1]\n",
    "    \n",
    "temp"
   ]
  },
  {
   "cell_type": "markdown",
   "metadata": {},
   "source": [
    "測試其它程式碼"
   ]
  },
  {
   "cell_type": "code",
   "execution_count": 358,
   "metadata": {},
   "outputs": [
    {
     "name": "stdout",
     "output_type": "stream",
     "text": [
      "3\n"
     ]
    },
    {
     "data": {
      "text/plain": [
       "int"
      ]
     },
     "execution_count": 358,
     "metadata": {},
     "output_type": "execute_result"
    }
   ],
   "source": [
    "a = int(test[0][0].split('-')[1])\n",
    "print(a)\n",
    "type(a)"
   ]
  },
  {
   "cell_type": "code",
   "execution_count": 146,
   "metadata": {},
   "outputs": [
    {
     "data": {
      "text/plain": [
       "[('test', 3), (9, 7), (5, 8)]"
      ]
     },
     "execution_count": 146,
     "metadata": {},
     "output_type": "execute_result"
    }
   ],
   "source": [
    "test"
   ]
  },
  {
   "cell_type": "code",
   "execution_count": 359,
   "metadata": {},
   "outputs": [
    {
     "name": "stdout",
     "output_type": "stream",
     "text": [
      "[2, 0, 0, 0, 1]\n",
      "[3, 3, 2, 1, 3]\n",
      "[4, 5, 6, 10, 15]\n"
     ]
    }
   ],
   "source": [
    "s = []\n",
    "d = []\n",
    "w = []\n",
    "\n",
    "for i in range(len(test)):\n",
    "    s.append(int(test[i][0].split('-')[0]))\n",
    "    d.append(int(test[i][0].split('-')[1]))\n",
    "    w.append(test[i][1])\n",
    "\n",
    "print(s)\n",
    "print(d)\n",
    "print(w)"
   ]
  },
  {
   "cell_type": "code",
   "execution_count": 360,
   "metadata": {},
   "outputs": [
    {
     "name": "stdout",
     "output_type": "stream",
     "text": [
      "0\n",
      "1\n",
      "2\n",
      "3\n",
      "4\n"
     ]
    }
   ],
   "source": [
    "for i in range(len(s)):\n",
    "    "
   ]
  },
  {
   "cell_type": "code",
   "execution_count": 319,
   "metadata": {},
   "outputs": [
    {
     "name": "stdout",
     "output_type": "stream",
     "text": [
      "('1-2', 1)\n",
      "('5-2', 2)\n",
      "('7-6', 2)\n",
      "('3-0', 3)\n",
      "('4-5', 4)\n"
     ]
    }
   ],
   "source": [
    "for i in test:\n",
    "    print(i)"
   ]
  },
  {
   "cell_type": "code",
   "execution_count": 263,
   "metadata": {},
   "outputs": [
    {
     "data": {
      "text/plain": [
       "[-1, -1, -1]"
      ]
     },
     "execution_count": 263,
     "metadata": {},
     "output_type": "execute_result"
    }
   ],
   "source": [
    "s = [-1]*3\n",
    "s"
   ]
  },
  {
   "cell_type": "code",
   "execution_count": 387,
   "metadata": {},
   "outputs": [
    {
     "data": {
      "text/plain": [
       "3"
      ]
     },
     "execution_count": 387,
     "metadata": {},
     "output_type": "execute_result"
    }
   ],
   "source": [
    "listA = [3,5,3,2,4,3]\n",
    "listA.count(3)"
   ]
  },
  {
   "cell_type": "code",
   "execution_count": 388,
   "metadata": {},
   "outputs": [
    {
     "data": {
      "text/plain": [
       "[7, 5, 3, 2, 4, 3]"
      ]
     },
     "execution_count": 388,
     "metadata": {},
     "output_type": "execute_result"
    }
   ],
   "source": [
    "listA[listA.index(3)] = 7\n",
    "listA"
   ]
  },
  {
   "cell_type": "code",
   "execution_count": 390,
   "metadata": {},
   "outputs": [
    {
     "data": {
      "text/plain": [
       "[7, 5, 7, 2, 4, 7]"
      ]
     },
     "execution_count": 390,
     "metadata": {},
     "output_type": "execute_result"
    }
   ],
   "source": [
    "for i in range(listA.count(3)):\n",
    "    listA[listA.index(3)] = 7\n",
    "    \n",
    "listA"
   ]
  },
  {
   "cell_type": "code",
   "execution_count": 423,
   "metadata": {},
   "outputs": [],
   "source": [
    "root = [-1]*4\n",
    "edge = []\n",
    "j = 0\n",
    "    \n",
    "while len(edge) < 4-1:\n",
    "    if root[d[j]] == -1:\n",
    "        root[d[j]] = s[j]\n",
    "        edge.append(j)\n",
    "    elif root[d[j]] == s[j]:\n",
    "        break\n",
    "    else:\n",
    "        for k in range(root.count(d[j])):\n",
    "            root[root.index(d[j])] = s[j]\n",
    "        root[d[j]] = s[j]\n",
    "        edge.append\n",
    "            \n",
    "    j += 1"
   ]
  },
  {
   "cell_type": "code",
   "execution_count": 477,
   "metadata": {},
   "outputs": [
    {
     "data": {
      "text/plain": [
       "{'2-3': 4, '0-3': 5, '0-1': 10}"
      ]
     },
     "execution_count": 477,
     "metadata": {},
     "output_type": "execute_result"
    }
   ],
   "source": [
    "w = [0,1,3]\n",
    "\n",
    "temp1 = {}\n",
    "for i in w:\n",
    "     temp1[test[i][0]] = test[i][1]\n",
    "\n",
    "temp1"
   ]
  },
  {
   "cell_type": "code",
   "execution_count": 42,
   "metadata": {},
   "outputs": [
    {
     "name": "stdout",
     "output_type": "stream",
     "text": [
      "2\n"
     ]
    }
   ],
   "source": [
    "if 2==1 or 3==3:\n",
    "    print(2)"
   ]
  },
  {
   "cell_type": "markdown",
   "metadata": {},
   "source": [
    "第一次的測資通過，帶別的測資試試看\n",
    "\n",
    "出現bug，回頭看程式碼發現，一開始沒有考慮到root變成child時，原本相同root的值都要改，修改一下"
   ]
  },
  {
   "cell_type": "markdown",
   "metadata": {},
   "source": [
    "帶不同的測資，發現一開始考慮得很不完備，先來整理下\n",
    "\n",
    "- cycle情況：\n",
    "    1. 起點與終點已是相同的root\n",
    "    2. 起點已是終點的root\n",
    "- 終點root為-1的情況：\n",
    "    1. 尚未變動過\n",
    "    2. 其本身是root"
   ]
  },
  {
   "cell_type": "markdown",
   "metadata": {},
   "source": [
    "### 帶別的測資測試程式碼"
   ]
  },
  {
   "cell_type": "code",
   "execution_count": 8,
   "metadata": {},
   "outputs": [],
   "source": [
    "h = Graph(9)\n",
    "\n",
    "h.addEdge(3, 5, 14)\n",
    "h.addEdge(1, 7, 11)\n",
    "h.addEdge(4, 5, 10)\n",
    "h.addEdge(3, 4, 9)\n",
    "h.addEdge(0, 7, 8)\n",
    "h.addEdge(1, 2, 8)\n",
    "h.addEdge(2, 3, 7)\n",
    "h.addEdge(7, 8, 7)\n",
    "h.addEdge(6, 8, 6)\n",
    "h.addEdge(0, 1, 4)\n",
    "h.addEdge(2, 5, 4)\n",
    "h.addEdge(2, 8, 2)\n",
    "h.addEdge(5, 6, 2)\n",
    "h.addEdge(6, 7, 1)"
   ]
  },
  {
   "cell_type": "code",
   "execution_count": 9,
   "metadata": {
    "scrolled": true
   },
   "outputs": [
    {
     "data": {
      "text/plain": [
       "{'6-7': 1,\n",
       " '2-8': 2,\n",
       " '5-6': 2,\n",
       " '0-1': 4,\n",
       " '2-5': 4,\n",
       " '2-3': 7,\n",
       " '0-7': 8,\n",
       " '3-4': 9}"
      ]
     },
     "execution_count": 9,
     "metadata": {},
     "output_type": "execute_result"
    }
   ],
   "source": [
    "h.Kruskal()"
   ]
  },
  {
   "cell_type": "code",
   "execution_count": 200,
   "metadata": {},
   "outputs": [],
   "source": [
    "j = Graph(10)\n",
    "\n",
    "j.addEdge(5, 6, 1)\n",
    "j.addEdge(1, 2, 2)\n",
    "j.addEdge(3, 2, 2)\n",
    "j.addEdge(0, 1, 3)\n",
    "j.addEdge(6, 7, 3)\n",
    "j.addEdge(5, 7, 4)\n",
    "j.addEdge(4, 5, 4)\n",
    "j.addEdge(1, 3, 4)\n",
    "j.addEdge(4, 6, 5)\n",
    "j.addEdge(0, 3, 6)\n",
    "j.addEdge(4, 8, 7)\n",
    "j.addEdge(2, 8, 8)\n",
    "j.addEdge(8, 9, 8)\n",
    "j.addEdge(3, 4, 9)\n",
    "j.addEdge(4, 2, 9)\n",
    "j.addEdge(1, 8, 9)\n",
    "j.addEdge(1, 9, 9)\n",
    "j.addEdge(0, 9, 9)\n",
    "j.addEdge(8, 6, 9)\n",
    "j.addEdge(8, 7, 10)\n",
    "j.addEdge(7, 9, 18)"
   ]
  },
  {
   "cell_type": "code",
   "execution_count": 202,
   "metadata": {
    "scrolled": false
   },
   "outputs": [
    {
     "data": {
      "text/plain": [
       "{'5-6': 1,\n",
       " '1-2': 2,\n",
       " '3-2': 2,\n",
       " '0-1': 3,\n",
       " '6-7': 3,\n",
       " '4-5': 4,\n",
       " '4-8': 7,\n",
       " '2-8': 8,\n",
       " '8-9': 8}"
      ]
     },
     "execution_count": 202,
     "metadata": {},
     "output_type": "execute_result"
    }
   ],
   "source": [
    "j.Kruskal()"
   ]
  },
  {
   "cell_type": "markdown",
   "metadata": {},
   "source": [
    "成功"
   ]
  },
  {
   "cell_type": "markdown",
   "metadata": {},
   "source": [
    "---"
   ]
  },
  {
   "cell_type": "markdown",
   "metadata": {},
   "source": [
    "### Dijkstra程式碼"
   ]
  },
  {
   "cell_type": "markdown",
   "metadata": {},
   "source": [
    "先釐清助教給的規範跟一些程式碼的使用方式"
   ]
  },
  {
   "cell_type": "code",
   "execution_count": 143,
   "metadata": {},
   "outputs": [
    {
     "data": {
      "text/plain": [
       "[[0, 0, 0, 0, 0, 0, 0, 0, 0],\n",
       " [0, 0, 0, 0, 0, 0, 0, 0, 0],\n",
       " [0, 0, 0, 0, 0, 0, 0, 0, 0],\n",
       " [0, 0, 0, 0, 0, 0, 0, 0, 0],\n",
       " [0, 0, 0, 0, 0, 0, 0, 0, 0],\n",
       " [0, 0, 0, 0, 0, 0, 0, 0, 0],\n",
       " [0, 0, 0, 0, 0, 0, 0, 0, 0],\n",
       " [0, 0, 0, 0, 0, 0, 0, 0, 0],\n",
       " [0, 0, 0, 0, 0, 0, 0, 0, 0]]"
      ]
     },
     "execution_count": 143,
     "metadata": {},
     "output_type": "execute_result"
    }
   ],
   "source": [
    "graph_matrix = [[0 for column in range(9)]  \n",
    "                    for row in range(9)]\n",
    "graph_matrix"
   ]
  },
  {
   "cell_type": "code",
   "execution_count": 252,
   "metadata": {},
   "outputs": [],
   "source": [
    "graph = [[0, 4, 0, 0, 0, 0, 0, 8, 0],\n",
    "        [4, 0, 8, 0, 0, 0, 0, 11, 0],\n",
    "        [0, 8, 0, 7, 0, 4, 0, 0, 2],\n",
    "        [0, 0, 7, 0, 9, 14, 0, 0, 0],\n",
    "        [0, 0, 0, 9, 0, 10, 0, 0, 0],\n",
    "        [0, 0, 4, 14, 10, 0, 2, 0, 0],\n",
    "        [0, 0, 0, 0, 0, 2, 0, 1, 6],\n",
    "        [8, 11, 0, 0, 0, 0, 1, 0, 7],\n",
    "        [0, 0, 2, 0, 0, 0, 6, 7, 0]\n",
    "        ]"
   ]
  },
  {
   "cell_type": "code",
   "execution_count": 150,
   "metadata": {},
   "outputs": [
    {
     "name": "stdout",
     "output_type": "stream",
     "text": [
      "0\n",
      "1\n",
      "2\n",
      "3\n",
      "4\n",
      "5\n",
      "6\n",
      "7\n",
      "8\n"
     ]
    },
    {
     "data": {
      "text/plain": [
       "2"
      ]
     },
     "execution_count": 150,
     "metadata": {},
     "output_type": "execute_result"
    }
   ],
   "source": [
    "m = None\n",
    "\n",
    "for i in range(len(graph[0])):\n",
    "    print(i)\n",
    "    graph_matrix[8][8] = 0\n",
    "    if graph[8][i] != 0:\n",
    "        graph_matrix[8][i] = graph[8][i]\n",
    "        if not m:\n",
    "            m = graph[8][i]\n",
    "        if m > graph[8][i]:\n",
    "            m = graph[8][i]\n",
    "m"
   ]
  },
  {
   "cell_type": "code",
   "execution_count": 138,
   "metadata": {},
   "outputs": [
    {
     "data": {
      "text/plain": [
       "[[0, 0, 0, 0, 0, 0, 0, 0, 0],\n",
       " [0, 0, 0, 0, 0, 0, 0, 0, 0],\n",
       " [0, 0, 0, 0, 0, 0, 0, 0, 0],\n",
       " [0, 0, 0, 0, 0, 0, 0, 0, 0],\n",
       " [0, 0, 0, 0, 0, 0, 0, 0, 0],\n",
       " [0, 0, 0, 0, 0, 0, 0, 0, 0],\n",
       " [0, 0, 0, 0, 0, 0, 0, 0, 0],\n",
       " [0, 0, 0, 0, 0, 0, 0, 0, 0],\n",
       " [0, 0, 2, 0, 0, 0, 6, 7, 0]]"
      ]
     },
     "execution_count": 138,
     "metadata": {},
     "output_type": "execute_result"
    }
   ],
   "source": [
    "graph_matrix"
   ]
  },
  {
   "cell_type": "code",
   "execution_count": 253,
   "metadata": {},
   "outputs": [
    {
     "data": {
      "text/plain": [
       "[[0, 4, 0, 0, 0, 0, 0, 8, 0],\n",
       " [4, 100, 8, 0, 0, 0, 0, 11, 0],\n",
       " [0, 8, 0, 7, 0, 4, 0, 0, 2],\n",
       " [0, 0, 7, 0, 9, 14, 0, 0, 0],\n",
       " [0, 0, 0, 9, 0, 10, 0, 0, 0],\n",
       " [0, 0, 4, 14, 10, 0, 2, 0, 0],\n",
       " [0, 0, 0, 0, 0, 2, 0, 1, 6],\n",
       " [8, 11, 0, 0, 0, 0, 1, 0, 7],\n",
       " [0, 0, 2, 0, 0, 0, 6, 7, 0]]"
      ]
     },
     "execution_count": 253,
     "metadata": {},
     "output_type": "execute_result"
    }
   ],
   "source": [
    "graph[1][1] = 100\n",
    "graph"
   ]
  },
  {
   "cell_type": "code",
   "execution_count": 222,
   "metadata": {},
   "outputs": [
    {
     "data": {
      "text/plain": [
       "1"
      ]
     },
     "execution_count": 222,
     "metadata": {},
     "output_type": "execute_result"
    }
   ],
   "source": [
    "b = 4\n",
    "\n",
    "graph[0].index(4)\n"
   ]
  },
  {
   "cell_type": "code",
   "execution_count": 196,
   "metadata": {},
   "outputs": [
    {
     "name": "stdout",
     "output_type": "stream",
     "text": [
      "0\n",
      "1\n",
      "2\n",
      "4\n",
      "5\n",
      "6\n",
      "7\n",
      "8\n"
     ]
    }
   ],
   "source": [
    "for i in range(9):\n",
    "    if i == 3:\n",
    "        continue\n",
    "    print(i)"
   ]
  },
  {
   "cell_type": "markdown",
   "metadata": {},
   "source": [
    "已找到最短路徑的點，在處理新的點時，複製上即可"
   ]
  },
  {
   "cell_type": "markdown",
   "metadata": {},
   "source": [
    "測試程式碼一直出現詭異的錯誤，再調整一下"
   ]
  },
  {
   "cell_type": "code",
   "execution_count": 73,
   "metadata": {},
   "outputs": [
    {
     "name": "stdout",
     "output_type": "stream",
     "text": [
      "a =  [3, [3, 2], 7]\n",
      "b =  [3, [3, 2], 7]\n",
      "True\n"
     ]
    }
   ],
   "source": [
    "a = [3,[3,2]]\n",
    "b = []\n",
    "\n",
    "b = a\n",
    "b.append(7)\n",
    "\n",
    "print('a = ', a)\n",
    "print('b = ', b)\n",
    "print(a is b)"
   ]
  },
  {
   "cell_type": "code",
   "execution_count": 91,
   "metadata": {},
   "outputs": [
    {
     "name": "stdout",
     "output_type": "stream",
     "text": [
      "1795919152968\n",
      "1795909145608\n",
      "1795922448840\n",
      "a =  [3, [3, 2, 100]]\n",
      "c =  [3, [3, 2, 100]]\n",
      "d =  [3, [3, 2, 100], 4]\n",
      "False\n"
     ]
    }
   ],
   "source": [
    "a = [3,[3,2]]\n",
    "c = []\n",
    "c = a.copy()\n",
    "d = a[:]\n",
    "# c[1].append(8)\n",
    "d.append(4)\n",
    "d[1].append(100)\n",
    "print(id(a))\n",
    "print(id(c))\n",
    "print(id(d))\n",
    "\n",
    "print('a = ', a)\n",
    "print('c = ', c)\n",
    "print('d = ', d)\n",
    "print( a is c )"
   ]
  },
  {
   "cell_type": "code",
   "execution_count": 93,
   "metadata": {},
   "outputs": [
    {
     "data": {
      "text/plain": [
       "[3, [3, 2, 100]]"
      ]
     },
     "execution_count": 93,
     "metadata": {},
     "output_type": "execute_result"
    }
   ],
   "source": [
    "a.append(67)\n",
    "a\n",
    "c"
   ]
  },
  {
   "cell_type": "markdown",
   "metadata": {},
   "source": [
    "原來指派的動作會讓兩個變數定址在相同的記憶體位置，難怪在指派後對其中一個變數做變動，另一個也會更動"
   ]
  },
  {
   "cell_type": "code",
   "execution_count": 65,
   "metadata": {},
   "outputs": [
    {
     "name": "stdout",
     "output_type": "stream",
     "text": [
      "2\n",
      "[0, 1, 3, 2, 4, 3]\n",
      "[0, 1, 2, 4, 3]\n",
      "5\n"
     ]
    }
   ],
   "source": [
    "#Bug1\n",
    "\n",
    "df = [0,1,3,2,4,3]\n",
    "dg = df.copy()\n",
    "print(dg.index(3))\n",
    "dg.remove(3)\n",
    "a = dg.index(3)\n",
    "dg.index(3)\n",
    "\n",
    "print(df)\n",
    "print(dg)\n",
    "print(a+1)\n"
   ]
  },
  {
   "cell_type": "code",
   "execution_count": 92,
   "metadata": {},
   "outputs": [
    {
     "data": {
      "text/plain": [
       "3"
      ]
     },
     "execution_count": 92,
     "metadata": {},
     "output_type": "execute_result"
    }
   ],
   "source": [
    "#Bug2\n",
    "c = [0,3,5]\n",
    "lis = [4,9,5,6,3,8]\n",
    "v = []\n",
    "\n",
    "for i in range(6):\n",
    "    if i not in c:\n",
    "        v.append(lis[i])\n",
    "min(v)"
   ]
  },
  {
   "cell_type": "markdown",
   "metadata": {},
   "source": [
    "先帶助教的範例測資試試看"
   ]
  },
  {
   "cell_type": "markdown",
   "metadata": {},
   "source": [
    "    Bug1. 遇到最小cost有相同值時，因為是用`list.index()`去找，所以處理到的都是第一個值\n",
    "    Bug2. 原本min_cost的設計不太好，調整一下"
   ]
  },
  {
   "cell_type": "code",
   "execution_count": 14,
   "metadata": {},
   "outputs": [],
   "source": [
    "g = Graph(9)\n",
    "\n",
    "g.graph = [[0, 4, 0, 0, 0, 0, 0, 8, 0],\n",
    "        [4, 0, 8, 0, 0, 0, 0, 11, 0],\n",
    "        [0, 8, 0, 7, 0, 4, 0, 0, 2],\n",
    "        [0, 0, 7, 0, 9, 14, 0, 0, 0],\n",
    "        [0, 0, 0, 9, 0, 10, 0, 0, 0],\n",
    "        [0, 0, 4, 14, 10, 0, 2, 0, 0],\n",
    "        [0, 0, 0, 0, 0, 2, 0, 1, 6],\n",
    "        [8, 11, 0, 0, 0, 0, 1, 0, 7],\n",
    "        [0, 0, 2, 0, 0, 0, 6, 7, 0]\n",
    "        ]\n"
   ]
  },
  {
   "cell_type": "markdown",
   "metadata": {},
   "source": [
    "改變不同的起點看一下結果"
   ]
  },
  {
   "cell_type": "code",
   "execution_count": 15,
   "metadata": {
    "scrolled": false
   },
   "outputs": [
    {
     "data": {
      "text/plain": [
       "{'0': 0, '1': 4, '2': 12, '3': 19, '4': 21, '5': 11, '6': 9, '7': 8, '8': 14}"
      ]
     },
     "execution_count": 15,
     "metadata": {},
     "output_type": "execute_result"
    }
   ],
   "source": [
    "g.Dijkstra(0)"
   ]
  },
  {
   "cell_type": "markdown",
   "metadata": {},
   "source": [
    "---"
   ]
  },
  {
   "cell_type": "markdown",
   "metadata": {},
   "source": [
    "## Demo"
   ]
  },
  {
   "cell_type": "markdown",
   "metadata": {},
   "source": [
    "- Kruskal"
   ]
  },
  {
   "cell_type": "code",
   "execution_count": 17,
   "metadata": {},
   "outputs": [
    {
     "data": {
      "text/html": [
       "<img src=\"https://github.com/vanikk06/Data-structures-and-Algorithms/blob/master/week_15/image/output_4GYg00.gif?raw=true\" width=\"400\" height=\"500\"/>"
      ],
      "text/plain": [
       "<IPython.core.display.Image object>"
      ]
     },
     "execution_count": 17,
     "metadata": {},
     "output_type": "execute_result"
    }
   ],
   "source": [
    "from IPython.display import Image\n",
    "Image(url=\"https://github.com/vanikk06/Data-structures-and-Algorithms/blob/master/week_15/image/output_4GYg00.gif?raw=true\", width=400, height=500)"
   ]
  },
  {
   "cell_type": "markdown",
   "metadata": {},
   "source": [
    "- Dijkstra"
   ]
  },
  {
   "cell_type": "code",
   "execution_count": 23,
   "metadata": {},
   "outputs": [
    {
     "data": {
      "text/html": [
       "<img src=\"https://github.com/vanikk06/Data-structures-and-Algorithms/blob/master/week_15/image/output_R6nuqr.gif?raw=true\" width=\"550\" height=\"400\"/>"
      ],
      "text/plain": [
       "<IPython.core.display.Image object>"
      ]
     },
     "execution_count": 23,
     "metadata": {},
     "output_type": "execute_result"
    }
   ],
   "source": [
    "Image(url=\"https://github.com/vanikk06/Data-structures-and-Algorithms/blob/master/week_15/image/output_R6nuqr.gif?raw=true\", width=550, height=400)"
   ]
  },
  {
   "cell_type": "markdown",
   "metadata": {},
   "source": [
    "---"
   ]
  },
  {
   "cell_type": "markdown",
   "metadata": {},
   "source": [
    "## 參考資料"
   ]
  },
  {
   "cell_type": "markdown",
   "metadata": {},
   "source": [
    "- 語法使用參考（語法的部份查詢了很多網頁，所以我有整理在github，這裡只放上github連結，在github上有查詢的外部網頁）\n",
    "    - [split](https://github.com/vanikk06/Data-structures-and-Algorithms/tree/master/week_14#split)\n",
    "    - [key vs. value](https://github.com/vanikk06/Data-structures-and-Algorithms/tree/master/week_14#key-vs-value)\n",
    "    - [sort vs. sorted](https://github.com/vanikk06/Data-structures-and-Algorithms/tree/master/week_14#sort-vs-sorted)\n",
    "    - [List](https://github.com/vanikk06/Data-structures-and-Algorithms/tree/master/week_03#list)\n",
    "    - [copy](https://github.com/vanikk06/Data-structures-and-Algorithms/tree/master/week_15#copy)\n",
    "- [上課講義](https://docs.google.com/presentation/d/e/2PACX-1vTgHO5AkHJS6iN6bnnBMMdHv6E4rabnrC0KwyTRfjad8Ab3IQjbnGvZuQOjDC9t7nKqeroiwcuasJrI/pub?start=false&loop=false&delayms=3000&slide=id.p)\n",
    "- [github筆記_Kruskal](https://github.com/vanikk06/Data-structures-and-Algorithms/tree/master/week_14)\n",
    "- [github筆記_Dijkstra](https://github.com/vanikk06/Data-structures-and-Algorithms/tree/master/week_15)"
   ]
  }
 ],
 "metadata": {
  "kernelspec": {
   "display_name": "Python 3",
   "language": "python",
   "name": "python3"
  },
  "language_info": {
   "codemirror_mode": {
    "name": "ipython",
    "version": 3
   },
   "file_extension": ".py",
   "mimetype": "text/x-python",
   "name": "python",
   "nbconvert_exporter": "python",
   "pygments_lexer": "ipython3",
   "version": "3.7.1"
  }
 },
 "nbformat": 4,
 "nbformat_minor": 2
}
